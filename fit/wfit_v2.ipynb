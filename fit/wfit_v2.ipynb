{
 "cells": [
  {
   "cell_type": "code",
   "execution_count": 233,
   "id": "5b93c44b",
   "metadata": {},
   "outputs": [],
   "source": [
    "## Adopted from https://root.cern/doc/master/df104__HiggsToTwoPhotons_8py.html\n",
    "import ROOT\n",
    "from ROOT import TH1D, TF1"
   ]
  },
  {
   "cell_type": "code",
   "execution_count": 234,
   "id": "9cee5138",
   "metadata": {},
   "outputs": [],
   "source": [
    "## Open the file\n",
    "\n",
    "filename = \"Inv_mass_gghasOneL_DNN_4_HL.root\"\n",
    "\n",
    "datadir = \"./data/\"\n",
    "path = datadir + filename\n",
    "\n",
    "outputdir = \"./output/\"\n",
    "\n",
    "#filename = \"Mgg_c4_Zveto_HL.root\"\n",
    "file = ROOT.TFile.Open(path)"
   ]
  },
  {
   "cell_type": "code",
   "execution_count": 235,
   "id": "3bc4e12c",
   "metadata": {},
   "outputs": [
    {
     "data": {
      "text/plain": [
       "True"
      ]
     },
     "execution_count": 235,
     "metadata": {},
     "output_type": "execute_result"
    }
   ],
   "source": [
    "## Get histograms\n",
    "Continuum_Bkg = file.Get(\"Continuum_Bkg\")\n",
    "GGHH = file.Get(\"GGHH\")\n",
    "GGH  = file.Get(\"GGH\")\n",
    "VBFH = file.Get(\"VBFH\")\n",
    "VH   = file.Get(\"VH\")\n",
    "ttH  = file.Get(\"ttH\")\n",
    "tHq  = file.Get(\"tHq\")\n",
    "\n",
    "# define single H bkg histo\n",
    "hSH = TH1D(\"hSH\", \"Single H Bkg.\", 80, 100, 180)\n",
    "hSH.Add(GGH)\n",
    "hSH.Add(VBFH)\n",
    "hSH.Add(VH)\n",
    "hSH.Add(ttH)\n",
    "hSH.Add(tHq)\n",
    "\n",
    "# define full bkg histo\n",
    "hFB = TH1D(\"hFB\", \"Full Bkg.\", 80, 100, 180)\n",
    "hFB.Add(hSH, Continuum_Bkg)\n",
    "\n",
    "# define signal + full bkg histo\n",
    "hSB = TH1D(\"hSB\", \"Signal + Bkg.\", 80, 100, 180)\n",
    "hSB.Add(hFB, GGHH)"
   ]
  },
  {
   "cell_type": "code",
   "execution_count": 236,
   "id": "2b732f46",
   "metadata": {},
   "outputs": [
    {
     "data": {
      "text/plain": [
       "<cppyy.gbl.TFitResultPtr object at 0x99debe0>"
      ]
     },
     "execution_count": 236,
     "metadata": {},
     "output_type": "execute_result"
    },
    {
     "name": "stdout",
     "output_type": "stream",
     "text": [
      "\n",
      "****************************************\n",
      "Minimizer is Minuit / Migrad\n",
      "MinFCN                    =      17.5798\n",
      "Chi2                      =  1.16297e+06\n",
      "NDf                       =           77\n",
      "Edm                       =  3.88411e-09\n",
      "NCalls                    =           94\n",
      "Constant                  =      2.19115   +/-   0.386924    \n",
      "Mean                      =      123.709   +/-   0.399357    \n",
      "Sigma                     =      5.55958   +/-   0.767328     \t (limited)\n",
      "\n",
      "****************************************\n",
      "Minimizer is Minuit / Migrad\n",
      "MinFCN                    =      1103.59\n",
      "Chi2                      =  1.65455e+11\n",
      "NDf                       =           78\n",
      "Edm                       =   6.7751e-10\n",
      "NCalls                    =           81\n",
      "p0                        =      7.94666   +/-   0.455664    \n",
      "p1                        =   -0.0405249   +/-   0.00315648  \n",
      "p2                        =      2.19115                      \t (fixed)\n",
      "p3                        =      123.709                      \t (fixed)\n",
      "p4                        =      5.55958                      \t (fixed)\n",
      "\n",
      "****************************************\n",
      "Minimizer is Minuit / Migrad\n",
      "MinFCN                    =      17.0928\n",
      "Chi2                      =  1.01529e+07\n",
      "NDf                       =           77\n",
      "Edm                       =  1.10467e-08\n",
      "NCalls                    =           73\n",
      "Constant                  =       2.0303   +/-   0.375898    \n",
      "Mean                      =      123.634   +/-   0.430473    \n",
      "Sigma                     =      5.66794   +/-   0.812759     \t (limited)\n"
     ]
    },
    {
     "name": "stderr",
     "output_type": "stream",
     "text": [
      "Warning in <ROOT::Math::Fitter::ApplyWeightCorrection>: Covariance matrix for weighted likelihood is not accurate, the errors may be not reliable\n",
      "Warning in <ROOT::Math::Fitter::ApplyWeightCorrection>: Covariance matrix for weighted likelihood was forced to be defined positive\n"
     ]
    }
   ],
   "source": [
    "# create histo that contains only the Higgs peak and fit it\n",
    "hpeak = TH1D(\"hpeak\", \"Single H + signal\", 80, 100, 180)\n",
    "hpeak.Add(hSH, GGHH)\n",
    "\n",
    "peak_fit = ROOT.TF1(\"peak_fit\", \"gaus\", 100, 180, 3)\n",
    "hpeak.Fit(peak_fit, \"0 S WL\")\n",
    "\n",
    "# Fit signal + background model using the parameters of the peak fit\n",
    "fit = ROOT.TF1(\"fit\", \"exp([0]+[1]*x)+[2]*exp(-0.5*((x-[3])/[4])^2)\", 100, 180)\n",
    "fit.FixParameter(2, peak_fit.GetParameter(0))\n",
    "fit.FixParameter(3, peak_fit.GetParameter(1))\n",
    "fit.FixParameter(4, peak_fit.GetParameter(2))\n",
    "fit.SetLineColor(8)\n",
    "fit.SetLineStyle(1)\n",
    "fit.SetLineWidth(2)\n",
    "hSB.Fit(\"fit\", \"0 S WL\", \"\", 100, 180)\n",
    "\n",
    "# fit the singleH only (to be subtracted from the pseudo-data in the ratio plot)\n",
    "singleH_fit = ROOT.TF1(\"singleH_fit\", \"gaus\", 100, 180, 3)\n",
    "hSH.Fit(singleH_fit, \"0 S WL\")"
   ]
  },
  {
   "cell_type": "code",
   "execution_count": 237,
   "id": "8e59e6a7",
   "metadata": {},
   "outputs": [
    {
     "name": "stderr",
     "output_type": "stream",
     "text": [
      "Warning in <TCanvas::Constructor>: Deleting canvas with same name: c\n"
     ]
    }
   ],
   "source": [
    "## Create canvas with two pads for the main plot and the pseudodata - bkg\n",
    "c = ROOT.TCanvas(\"c\", \"\", 700, 650)\n",
    "upper_pad = ROOT.TPad(\"upper_pad\", \"\", 0, 0.35, 1, 1)\n",
    "lower_pad = ROOT.TPad(\"lower_pad\", \"\", 0, 0, 1, 0.35)\n",
    "for p in [upper_pad, lower_pad]:\n",
    "    p.SetLeftMargin(0.14)\n",
    "    p.SetRightMargin(0.05)\n",
    "    p.SetTickx(False)\n",
    "    p.SetTicky(False)\n",
    "upper_pad.SetBottomMargin(0)\n",
    "lower_pad.SetTopMargin(0)\n",
    "lower_pad.SetBottomMargin(0.3)\n",
    " \n",
    "upper_pad.Draw()\n",
    "lower_pad.Draw()\n",
    "\n",
    "# select upper pad (main plot)\n",
    "upper_pad.cd()\n",
    "\n",
    "# create pseudodata histo and fill with \"fit\"\n",
    "hPD = TH1D(\"hPD\", \"Pseudo data\", 20, 100, 180)\n",
    "\n",
    "for i in range(int(hSB.Integral()/4)):\n",
    "    hPD.Fill(fit.GetRandom());\n",
    "\n",
    "# draw pseudodata\n",
    "for h in [hPD]:\n",
    "    h.SetMarkerStyle(20)\n",
    "    h.SetMarkerSize(1.2)\n",
    "    h.SetLineWidth(2)\n",
    "    h.SetLineColor(ROOT.kBlack)\n",
    "    h.SetMinimum(1e-3)\n",
    "    h.SetMaximum(8e3)\n",
    "    if filename == \"Mgg_c3_DNN_HL.root\":\n",
    "        h.SetMaximum(25e2)\n",
    "    if filename == \"Mgg_c4_Zveto_HL.root\":\n",
    "        h.SetMaximum(100)\n",
    "    h.GetYaxis().SetLabelSize(0.045)\n",
    "    h.GetYaxis().SetTitleSize(0.05)\n",
    "    h.GetYaxis().SetTitle(\"Events\")\n",
    "    h.SetStats(0)\n",
    "    h.SetTitle(\"\")\n",
    "    h.Draw(\"E\")\n",
    "\n",
    "# Draw fit\n",
    "fit.Draw(\"SAME\")"
   ]
  },
  {
   "cell_type": "code",
   "execution_count": 238,
   "id": "eda90f4d",
   "metadata": {},
   "outputs": [],
   "source": [
    "# create cont bkg fit function with the expo parameters of the \"fit\" and draw\n",
    "cont_bkg_fit = ROOT.TF1(\"cont_bkg\", \"exp([0]+[1]*x)\", 100, 180)\n",
    "for i in range(2):\n",
    "    cont_bkg_fit.SetParameter(i, fit.GetParameter(i))\n",
    "cont_bkg_fit.SetLineColor(4)\n",
    "cont_bkg_fit.SetLineStyle(2)\n",
    "cont_bkg_fit.SetLineWidth(2)\n",
    "cont_bkg_fit.Draw(\"SAME\")"
   ]
  },
  {
   "cell_type": "code",
   "execution_count": 239,
   "id": "7d73f6a7",
   "metadata": {},
   "outputs": [
    {
     "data": {
      "text/plain": [
       "<cppyy.gbl.TPad object at 0x9087690>"
      ]
     },
     "execution_count": 239,
     "metadata": {},
     "output_type": "execute_result"
    }
   ],
   "source": [
    "# Draw ratio\n",
    "lower_pad.cd()"
   ]
  },
  {
   "cell_type": "code",
   "execution_count": 240,
   "id": "aba87a8d",
   "metadata": {},
   "outputs": [],
   "source": [
    "# define pad properties\n",
    "ratiopad = ROOT.TH1I(\"zero\", \"\", 80, 100, 180)\n",
    "ratiopad.SetStats(0)\n",
    "ratiopad.SetLineColor(4)\n",
    "ratiopad.SetLineStyle(2)\n",
    "ratiopad.SetLineWidth(2)\n",
    "ratiopad.SetMinimum(-300)\n",
    "ratiopad.SetMaximum(450)\n",
    "ratiopad.GetXaxis().SetLabelSize(0.08)\n",
    "ratiopad.GetXaxis().SetTitleSize(0.09)\n",
    "ratiopad.GetXaxis().SetTitleOffset(1.0)\n",
    "ratiopad.GetYaxis().SetLabelSize(0.08)\n",
    "ratiopad.GetYaxis().SetTitleSize(0.08)\n",
    "ratiopad.GetYaxis().SetTitle(\"Pseudo-data - Bkg.\")\n",
    "ratiopad.GetYaxis().CenterTitle()\n",
    "#ratiopad.GetYaxis().SetTitleOffset(0.6)\n",
    "ratiopad.GetYaxis().ChangeLabel(-1, -1, 0)\n",
    "ratiopad.GetXaxis().SetTitle(\"Di-photon Invariant mass [GeV]\")\n",
    "if filename == \"Mgg_c3_DNN_HL.root\":\n",
    "    ratiopad.SetMinimum(-200)\n",
    "    ratiopad.SetMaximum(250)\n",
    "if filename == \"Mgg_c4_Zveto_HL.root\":\n",
    "    ratiopad.SetMinimum(-30)\n",
    "    ratiopad.SetMaximum(45)\n",
    "    ratiopad.GetYaxis().SetTitleOffset(0.5)\n",
    "ratiopad.Draw(\"AXIS\")"
   ]
  },
  {
   "cell_type": "code",
   "execution_count": 241,
   "id": "f5786432",
   "metadata": {},
   "outputs": [],
   "source": [
    "# create signal histo, evaluate with fit parameters, subtract cont. bkg and single H bkg\n",
    "ratiosig = ROOT.TH1F(\"ratiosig\", \"ratiosig\", 5000, 100, 180)\n",
    "ratiosig.Eval(fit) # equivalent to ratiosig.Add(fit, 1)\n",
    "ratiosig.SetLineColor(2)\n",
    "ratiosig.SetLineStyle(1)\n",
    "ratiosig.SetLineWidth(2)\n",
    "ratiosig.Add(cont_bkg_fit, -1)\n",
    "ratiosig.Add(singleH_fit, -1)\n",
    "ratiosig.Scale(1000)\n",
    "ratiosig.Draw(\"SAME\")"
   ]
  },
  {
   "cell_type": "code",
   "execution_count": 242,
   "id": "0de3f32c",
   "metadata": {},
   "outputs": [],
   "source": [
    "# create pseudo-data histo and subtract cont. bkg and single H bkg\n",
    "ratiodata = hPD.Clone()\n",
    "ratiodata.Add(cont_bkg_fit, -1)\n",
    "ratiodata.Add(singleH_fit, -1)\n",
    "for i in range(1, hPD.GetNbinsX()):\n",
    "    ratiodata.SetBinError(i, hPD.GetBinError(i))\n",
    "ratiodata.Draw(\"E SAME\")"
   ]
  },
  {
   "cell_type": "code",
   "execution_count": 243,
   "id": "74f8cb5b",
   "metadata": {},
   "outputs": [],
   "source": [
    "# Add legend\n",
    "upper_pad.cd()\n",
    "legend = ROOT.TLegend(0.6, 0.6, 0.94, 0.85)\n",
    "legend.SetTextFont(42)\n",
    "legend.SetFillStyle(0)\n",
    "legend.SetBorderSize(0)\n",
    "legend.SetTextSize(0.05)\n",
    "legend.SetTextAlign(32)\n",
    "legend.AddEntry(hPD, \"Pseudo-data\" ,\"lep\")\n",
    "legend.AddEntry(cont_bkg_fit, \"Continuum Bkg.\", \"l\")\n",
    "legend.AddEntry(fit, \"Signal + Full Bkg.\", \"l\")\n",
    "legend.AddEntry(ratiosig, \"Signal x 1000\", \"l\")\n",
    "legend.Draw()"
   ]
  },
  {
   "cell_type": "code",
   "execution_count": 244,
   "id": "065fc79a",
   "metadata": {},
   "outputs": [
    {
     "data": {
      "image/png": "[encoded data removed]",
      "text/plain": [
       "<IPython.core.display.Image object>"
      ]
     },
     "metadata": {},
     "output_type": "display_data"
    }
   ],
   "source": [
    "# Add CMS label\n",
    "text = ROOT.TLatex()\n",
    "text.SetNDC()\n",
    "\n",
    "text.SetTextFont(72)\n",
    "text.SetTextSize(0.05)\n",
    "text.DrawLatex(0.15, 0.91, \"CMS\")\n",
    "\n",
    "text.SetTextFont(42)\n",
    "text.SetTextSize(0.045)\n",
    "text.DrawLatex(0.24, 0.91, \"Phase-2 Simulation Preliminary\")\n",
    "\n",
    "text.SetTextSize(0.045)\n",
    "text.DrawLatex(0.7, 0.91, \"3000fb^{-1} (14TeV)\")\n",
    "\n",
    "text.SetTextSize(0.05)\n",
    "text.DrawLatex(0.24, 0.83, \"pp #rightarrow HH #rightarrow W(qq)W(l#nu)#gamma#gamma\")\n",
    "text.DrawLatex(0.24, 0.78, \"Cat.4 \")\n",
    "\n",
    "%jsroot off\n",
    "c.Draw()"
   ]
  },
  {
   "cell_type": "code",
   "execution_count": 245,
   "id": "51dfc69e",
   "metadata": {},
   "outputs": [
    {
     "name": "stderr",
     "output_type": "stream",
     "text": [
      "Info in <TCanvas::Print>: pdf file ./output/Inv_mass_gghasOneL_DNN_4_HL_FIT.pdf has been created\n"
     ]
    }
   ],
   "source": [
    "c.SaveAs(outputdir + filename.rstrip(\".root\")+\"_FIT.pdf\")"
   ]
  },
  {
   "cell_type": "code",
   "execution_count": null,
   "id": "fbe69baf",
   "metadata": {},
   "outputs": [],
   "source": []
  },
  {
   "cell_type": "code",
   "execution_count": null,
   "id": "4fa87f6b",
   "metadata": {},
   "outputs": [],
   "source": []
  },
  {
   "cell_type": "code",
   "execution_count": null,
   "id": "eb406729",
   "metadata": {},
   "outputs": [],
   "source": []
  },
  {
   "cell_type": "code",
   "execution_count": null,
   "id": "32a8b615",
   "metadata": {},
   "outputs": [],
   "source": []
  },
  {
   "cell_type": "code",
   "execution_count": null,
   "id": "92e5d9cf",
   "metadata": {},
   "outputs": [],
   "source": []
  },
  {
   "cell_type": "code",
   "execution_count": null,
   "id": "ddc0ffbf",
   "metadata": {},
   "outputs": [],
   "source": []
  }
 ],
 "metadata": {
  "kernelspec": {
   "display_name": "Python 3",
   "language": "python",
   "name": "python3"
  },
  "language_info": {
   "codemirror_mode": {
    "name": "ipython",
    "version": 3
   },
   "file_extension": ".py",
   "mimetype": "text/x-python",
   "name": "python",
   "nbconvert_exporter": "python",
   "pygments_lexer": "ipython3",
   "version": "3.9.6"
  }
 },
 "nbformat": 4,
 "nbformat_minor": 5
}
