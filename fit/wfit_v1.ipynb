{
 "cells": [
  {
   "cell_type": "code",
   "execution_count": 22,
   "id": "5b93c44b",
   "metadata": {},
   "outputs": [],
   "source": [
    "import ROOT\n",
    "from ROOT import TFile, TCanvas, TH1D, TF1, gStyle\n",
    "import numpy as np"
   ]
  },
  {
   "cell_type": "code",
   "execution_count": 23,
   "id": "9cee5138",
   "metadata": {},
   "outputs": [],
   "source": [
    "# Open the file\n",
    "file = TFile.Open(\"data/Inv_mass_gghasOneL_DNN_HL.root\")\n",
    "# file.ls()"
   ]
  },
  {
   "cell_type": "code",
   "execution_count": 24,
   "id": "3bc4e12c",
   "metadata": {},
   "outputs": [
    {
     "data": {
      "text/plain": [
       "True"
      ]
     },
     "execution_count": 24,
     "metadata": {},
     "output_type": "execute_result"
    }
   ],
   "source": [
    "## Get histograms\n",
    "\n",
    "Continuum_Bkg = file.Get(\"Continuum_Bkg\"); # TH1\n",
    "GGHH = file.Get(\"GGHH\");\n",
    "GGH  = file.Get(\"GGH\");\n",
    "VBFH = file.Get(\"VBFH\");\n",
    "VH   = file.Get(\"VH\");\n",
    "ttH  = file.Get(\"ttH\");\n",
    "tHq  = file.Get(\"tHq\");\n",
    "data_obs = file.Get(\"data_obs\")\n",
    "\n",
    "# define full bkg. histogram\n",
    "hSH = TH1D(\"hSH\", \"Single H Bkg.\", 80, 100, 180)\n",
    "hSH.Add(GGH)\n",
    "hSH.Add(VBFH)\n",
    "hSH.Add(VH)\n",
    "hSH.Add(ttH)\n",
    "hSH.Add(tHq)\n",
    "\n",
    "hFB = TH1D(\"hFB\", \"Full Bkg.\", 80, 100, 180)\n",
    "hFB.Add(hSH, Continuum_Bkg)\n",
    "\n",
    "hSB = TH1D(\"hSB\", \"Signal + Bkg.\", 80, 100, 180)\n",
    "hSB.Add(hFB, GGHH)"
   ]
  },
  {
   "cell_type": "code",
   "execution_count": 25,
   "id": "5c32b92f",
   "metadata": {},
   "outputs": [
    {
     "name": "stderr",
     "output_type": "stream",
     "text": [
      "Warning in <TCanvas::Constructor>: Deleting canvas with same name: c\n"
     ]
    }
   ],
   "source": [
    "# Create canvas with pads for main plot and data/MC ratio\n",
    "c = ROOT.TCanvas(\"c\", \"\", 700, 750)"
   ]
  },
  {
   "cell_type": "code",
   "execution_count": 26,
   "id": "98660a17",
   "metadata": {},
   "outputs": [],
   "source": [
    "upper_pad = ROOT.TPad(\"upper_pad\", \"\", 0, 0.35, 1, 1)\n",
    "lower_pad = ROOT.TPad(\"lower_pad\", \"\", 0, 0, 1, 0.35)\n",
    "for p in [upper_pad, lower_pad]:\n",
    "    p.SetLeftMargin(0.14)\n",
    "    p.SetRightMargin(0.05)\n",
    "    p.SetTickx(False)\n",
    "    p.SetTicky(False)\n",
    "upper_pad.SetBottomMargin(0)\n",
    "lower_pad.SetTopMargin(0)\n",
    "lower_pad.SetBottomMargin(0.3)\n",
    " \n",
    "upper_pad.Draw()\n",
    "lower_pad.Draw()"
   ]
  },
  {
   "cell_type": "code",
   "execution_count": 27,
   "id": "2b732f46",
   "metadata": {},
   "outputs": [
    {
     "data": {
      "text/plain": [
       "<cppyy.gbl.TFitResultPtr object at 0x9cc6b50>"
      ]
     },
     "execution_count": 27,
     "metadata": {},
     "output_type": "execute_result"
    },
    {
     "name": "stdout",
     "output_type": "stream",
     "text": [
      "\n",
      "****************************************\n",
      "Minimizer is Minuit / Migrad\n",
      "MinFCN                    =      6489.32\n",
      "Chi2                      =      186.829\n",
      "NDf                       =           78\n",
      "Edm                       =  4.52292e-09\n",
      "NCalls                    =           91\n",
      "p0                        =      11.4747   +/-   0.12593     \n",
      "p1                        =   -0.0253824   +/-   0.000959427 \n",
      "p2                        =        119.1                      \t (fixed)\n",
      "p3                        =          125                      \t (fixed)\n",
      "p4                        =         2.39                      \t (fixed)\n",
      "\n",
      "****************************************\n",
      "Minimizer is Minuit / Migrad\n",
      "MinFCN                    =      6489.48\n",
      "Chi2                      =      186.829\n",
      "NDf                       =           78\n",
      "Edm                       =  4.50795e-09\n",
      "NCalls                    =           91\n",
      "p0                        =      11.4746   +/-   0.12593     \n",
      "p1                        =   -0.0253824   +/-   0.000959426 \n",
      "p2                        =        119.1                      \t (fixed)\n",
      "p3                        =          125                      \t (fixed)\n",
      "p4                        =         2.39                      \t (fixed)\n"
     ]
    }
   ],
   "source": [
    "# Fit signal + background model to data\n",
    "fit = ROOT.TF1(\"fit\", \"expo+[2]*exp(-0.5*((x-[3])/[4])^2)\", 100, 180)\n",
    "fit.FixParameter(3, 125.0)\n",
    "fit.FixParameter(2, 119.1)\n",
    "fit.FixParameter(4, 2.39)\n",
    "fit.SetLineColor(2)\n",
    "fit.SetLineStyle(1)\n",
    "fit.SetLineWidth(2)\n",
    "hSB.Fit(\"fit\", \"0 S WL\", \"\", 100, 180)\n",
    "\n",
    "# fit single H\n",
    "fit2 = ROOT.TF1(\"fit2\", \"expo+[2]*exp(-0.5*((x-[3])/[4])^2)\", 100, 180)\n",
    "fit2.FixParameter(3, 125.0)\n",
    "fit2.FixParameter(2, 119.1)\n",
    "fit2.FixParameter(4, 2.39)\n",
    "fit2.SetLineColor(8)\n",
    "fit2.SetLineStyle(1)\n",
    "fit2.SetLineWidth(2)\n",
    "hFB.Fit(\"fit2\", \"0 S WL\", \"\", 100, 180)"
   ]
  },
  {
   "cell_type": "code",
   "execution_count": 28,
   "id": "8e59e6a7",
   "metadata": {
    "scrolled": false
   },
   "outputs": [],
   "source": [
    "# Draw pseudo-data\n",
    "upper_pad.cd()\n",
    "\n",
    "hPD = TH1D(\"hPD\", \"Pseudo data\", 20, 100, 180)\n",
    "\n",
    "for i in range(int(hSB.Integral()/4)):\n",
    "    hPD.Fill(fit.GetRandom());\n",
    "\n",
    "for h in [hPD]:\n",
    "    h.SetMarkerStyle(20)\n",
    "    h.SetMarkerSize(1.2)\n",
    "    h.SetLineWidth(2)\n",
    "    h.SetLineColor(ROOT.kBlack)\n",
    "    h.SetMinimum(1e-3)\n",
    "    h.SetMaximum(8e3)\n",
    "    h.GetYaxis().SetLabelSize(0.045)\n",
    "    h.GetYaxis().SetTitleSize(0.05)\n",
    "    h.SetStats(0)\n",
    "    h.SetTitle(\"\")\n",
    "    h.Draw(\"E\")"
   ]
  },
  {
   "cell_type": "code",
   "execution_count": 29,
   "id": "81ffd3c9",
   "metadata": {},
   "outputs": [],
   "source": [
    "# Draw fit\n",
    "fit2.Draw(\"SAME\")\n",
    "fit.Draw(\"SAME\")"
   ]
  },
  {
   "cell_type": "code",
   "execution_count": 30,
   "id": "eda90f4d",
   "metadata": {},
   "outputs": [],
   "source": [
    "# Draw background\n",
    "bkg = ROOT.TF1(\"bkg\", \"expo\", 100, 180)\n",
    "for i in range(4):\n",
    "    bkg.SetParameter(i, fit.GetParameter(i))\n",
    "bkg.SetLineColor(4)\n",
    "bkg.SetLineStyle(2)\n",
    "bkg.SetLineWidth(2)\n",
    "bkg.Draw(\"SAME\")"
   ]
  },
  {
   "cell_type": "code",
   "execution_count": 31,
   "id": "a7d54bf0",
   "metadata": {},
   "outputs": [],
   "source": [
    "# Should we scale the signal by luminosity and weight?\n",
    "#dihiggs = GGHH.Clone()\n",
    "GGHH.Scale(1000)\n",
    "GGHH.Draw(\"HIST SAME\")"
   ]
  },
  {
   "cell_type": "code",
   "execution_count": 32,
   "id": "7d73f6a7",
   "metadata": {},
   "outputs": [
    {
     "data": {
      "text/plain": [
       "<cppyy.gbl.TPad object at 0x9b265a0>"
      ]
     },
     "execution_count": 32,
     "metadata": {},
     "output_type": "execute_result"
    }
   ],
   "source": [
    "# Draw ratio\n",
    "lower_pad.cd()"
   ]
  },
  {
   "cell_type": "code",
   "execution_count": 33,
   "id": "aba87a8d",
   "metadata": {},
   "outputs": [],
   "source": [
    "ratiobkg = ROOT.TH1I(\"zero\", \"\", 80, 100, 180)\n",
    "ratiobkg.SetStats(0)\n",
    "ratiobkg.SetLineColor(4)\n",
    "ratiobkg.SetLineStyle(2)\n",
    "ratiobkg.SetLineWidth(2)\n",
    "ratiobkg.SetMinimum(-125)\n",
    "ratiobkg.SetMaximum(250)\n",
    "ratiobkg.GetXaxis().SetLabelSize(0.08)\n",
    "ratiobkg.GetXaxis().SetTitleSize(0.12)\n",
    "ratiobkg.GetXaxis().SetTitleOffset(1.0)\n",
    "ratiobkg.GetYaxis().SetLabelSize(0.08)\n",
    "ratiobkg.GetYaxis().SetTitleSize(0.09)\n",
    "ratiobkg.GetYaxis().SetTitle(\"Data - Bkg.\")\n",
    "ratiobkg.GetYaxis().CenterTitle()\n",
    "ratiobkg.GetYaxis().SetTitleOffset(0.7)\n",
    "ratiobkg.GetYaxis().SetNdivisions(503, False)\n",
    "ratiobkg.GetYaxis().ChangeLabel(-1, -1, 0)\n",
    "ratiobkg.GetXaxis().SetTitle(\"m_{#gamma#gamma} [GeV]\")\n",
    "ratiobkg.Draw(\"AXIS\")"
   ]
  },
  {
   "cell_type": "code",
   "execution_count": 34,
   "id": "f5786432",
   "metadata": {},
   "outputs": [],
   "source": [
    "ratiores = ROOT.TH1F(\"ratiores\", \"ratiores\", 5000, 100, 180)\n",
    "ratiores.Eval(fit2)\n",
    "ratiores.SetLineColor(8)\n",
    "ratiores.SetLineStyle(1)\n",
    "ratiores.SetLineWidth(2)\n",
    "ratiores.Add(bkg, -1)\n",
    "ratiores.Draw(\"SAME\")\n",
    "\n",
    "ratiosig = ROOT.TH1F(\"ratiosig\", \"ratiosig\", 5000, 100, 180)\n",
    "ratiosig.Eval(fit)\n",
    "ratiosig.SetLineColor(2)\n",
    "ratiosig.SetLineStyle(1)\n",
    "ratiosig.SetLineWidth(2)\n",
    "ratiosig.Add(bkg, -1)\n",
    "ratiosig.Draw(\"SAME\")"
   ]
  },
  {
   "cell_type": "code",
   "execution_count": 35,
   "id": "0de3f32c",
   "metadata": {},
   "outputs": [],
   "source": [
    "ratiodata = hPD.Clone()\n",
    "ratiodata.Add(bkg, -1)\n",
    "for i in range(1, hPD.GetNbinsX()):\n",
    "    ratiodata.SetBinError(i, hPD.GetBinError(i))\n",
    "ratiodata.Draw(\"E SAME\")"
   ]
  },
  {
   "cell_type": "code",
   "execution_count": 36,
   "id": "74f8cb5b",
   "metadata": {},
   "outputs": [],
   "source": [
    "# Add legend\n",
    "upper_pad.cd()\n",
    "legend = ROOT.TLegend(0.65, 0.55, 0.99, 0.85)\n",
    "legend.SetTextFont(42)\n",
    "legend.SetFillStyle(0)\n",
    "legend.SetBorderSize(0)\n",
    "legend.SetTextSize(0.05)\n",
    "legend.SetTextAlign(32)\n",
    "legend.AddEntry(hPD, \"Pseudo-data\" ,\"lep\")\n",
    "legend.AddEntry(bkg, \"Non-resonant Bkg.\", \"l\")\n",
    "legend.AddEntry(fit, \"Signal + Full Bkg.\", \"l\")\n",
    "legend.AddEntry(fit2, \"Full bkg.\", \"l\")\n",
    "legend.AddEntry(GGHH, \"Signal x 1000\", \"l\")\n",
    "legend.Draw()"
   ]
  },
  {
   "cell_type": "code",
   "execution_count": 37,
   "id": "065fc79a",
   "metadata": {
    "scrolled": false
   },
   "outputs": [
    {
     "data": {
      "image/png": "[encoded data removed]",
      "text/plain": [
       "<IPython.core.display.Image object>"
      ]
     },
     "metadata": {},
     "output_type": "display_data"
    }
   ],
   "source": [
    "# Add CMS label\n",
    "text = ROOT.TLatex()\n",
    "text.SetNDC()\n",
    "text.SetTextFont(72)\n",
    "text.SetTextSize(0.05)\n",
    "text.DrawLatex(0.2, 0.91, \"CMS\")\n",
    "text.SetTextFont(42)\n",
    "text.DrawLatex(0.2 + 0.08, 0.91, \"HL-LHC\")\n",
    "text.SetTextSize(0.04)\n",
    "text.DrawLatex(0.42, 0.91, \"#sqrt{s} = 14 TeV, 3000 fb^{-1}\")\n",
    "%jsroot off\n",
    "c.Draw()"
   ]
  },
  {
   "cell_type": "code",
   "execution_count": 38,
   "id": "51dfc69e",
   "metadata": {},
   "outputs": [
    {
     "name": "stderr",
     "output_type": "stream",
     "text": [
      "Info in <TCanvas::Print>: png file postfit.png has been created\n"
     ]
    }
   ],
   "source": [
    "c.SaveAs(\"postfit.png\")"
   ]
  },
  {
   "cell_type": "code",
   "execution_count": null,
   "id": "fbe69baf",
   "metadata": {},
   "outputs": [],
   "source": []
  },
  {
   "cell_type": "code",
   "execution_count": null,
   "id": "4fa87f6b",
   "metadata": {},
   "outputs": [],
   "source": []
  },
  {
   "cell_type": "code",
   "execution_count": null,
   "id": "eb406729",
   "metadata": {},
   "outputs": [],
   "source": []
  },
  {
   "cell_type": "code",
   "execution_count": null,
   "id": "32a8b615",
   "metadata": {},
   "outputs": [],
   "source": []
  },
  {
   "cell_type": "code",
   "execution_count": null,
   "id": "92e5d9cf",
   "metadata": {},
   "outputs": [],
   "source": []
  }
 ],
 "metadata": {
  "kernelspec": {
   "display_name": "Python 3",
   "language": "python",
   "name": "python3"
  },
  "language_info": {
   "codemirror_mode": {
    "name": "ipython",
    "version": 3
   },
   "file_extension": ".py",
   "mimetype": "text/x-python",
   "name": "python",
   "nbconvert_exporter": "python",
   "pygments_lexer": "ipython3",
   "version": "3.9.6"
  }
 },
 "nbformat": 4,
 "nbformat_minor": 5
}
